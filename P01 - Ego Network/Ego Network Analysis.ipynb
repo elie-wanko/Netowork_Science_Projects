{
 "cells": [
  {
   "cell_type": "markdown",
   "metadata": {},
   "source": [
    "# Ego Network Analysis\n",
    "## Content\n",
    "- [What is Ego Network?](ego)\n",
    "    - [Dataset information](#di)\n",
    "    - [Source (citation)](#sc)\n",
    "    - [Files](#f)\n",
    "- [Exploratory Data Analysis](#eda)\n",
    "- [Observations](#ob)\n",
    "- [Conclusions](#cc)"
   ]
  },
  {
   "cell_type": "markdown",
   "metadata": {},
   "source": [
    "### What is Ego Network?\n",
    "Ego networks consist of a focal node (\"ego\") and the nodes to whom ego is directly connected to (these are called \"alters\") plus the ties, if any, among the alters. Of course, each alter in an ego network has his/her own ego network, and all ego networks interlock to form The human social network.\n",
    "\n",
    "In this notebook, we are going to explore a data set provided by Stanford Snap [here](https://snap.stanford.edu/data/ego-Twitter.html).\n",
    "\n",
    "<a id='di'></a>\n",
    "#### Dataset information\n",
    "This dataset consists of 'circles' (or 'lists') from Twitter. Twitter data was crawled from public sources. The dataset includes node features (profiles), circles, and ego networks.\n",
    "\n",
    "Data is also available from [Facebook](https://snap.stanford.edu/data/ego-Facebook.html) and [Google+](https://snap.stanford.edu/data/ego-Gplus.html).\n",
    "\n",
    "\n",
    "| Data Statistics |  |\n",
    "| :----- | :----- |\n",
    "| Nodes | 81306 | \n",
    "| Edges\t|1768149 | \n",
    "| Nodes in largest WCC | 81306 (1.000) | \n",
    "| Edges in largest WCC | 1768149 (1.000) |\n",
    "| Nodes in largest SCC | 68413 (0.841) |\n",
    "| Edges in largest SCC | 1685163 (0.953) |\n",
    "| Average clustering coefficient | 0.5653 |\n",
    "| Number of triangles | 13082506 |\n",
    "| Fraction of closed triangles | 0.06415 |\n",
    "| Diameter (longest shortest path) | 7 |\n",
    "| 90-percentile effective diameter | 4.5 |\n",
    "\n",
    "<a id='sc'></a>\n",
    "#### Source (citation)\n",
    "J. McAuley and J. Leskovec. [Learning to Discover Social Circles in Ego Networks.](http://i.stanford.edu/~julian/pdfs/nips2012.pdf) NIPS, 2012.\n",
    "\n",
    "<a id='f'></a>\n",
    "#### Files\n",
    "File\tDescription\n",
    "* Twitter data (973 networks) - [twitter.tar.gz](https://snap.stanford.edu/data/twitter.tar.gz)\n",
    "* Edges from all egonets combined [twitter_combined.txt.gz](https://snap.stanford.edu/data/twitter_combined.txt.gz)\t\n",
    "* Description of files [readme-Ego.txt](https://snap.stanford.edu/data/readme-Ego.txt)"
   ]
  },
  {
   "cell_type": "code",
   "execution_count": null,
   "metadata": {},
   "outputs": [],
   "source": []
  },
  {
   "cell_type": "code",
   "execution_count": null,
   "metadata": {},
   "outputs": [],
   "source": []
  }
 ],
 "metadata": {
  "kernelspec": {
   "display_name": "Python 3",
   "language": "python",
   "name": "python3"
  },
  "language_info": {
   "codemirror_mode": {
    "name": "ipython",
    "version": 3
   },
   "file_extension": ".py",
   "mimetype": "text/x-python",
   "name": "python",
   "nbconvert_exporter": "python",
   "pygments_lexer": "ipython3",
   "version": "3.7.6"
  }
 },
 "nbformat": 4,
 "nbformat_minor": 4
}
